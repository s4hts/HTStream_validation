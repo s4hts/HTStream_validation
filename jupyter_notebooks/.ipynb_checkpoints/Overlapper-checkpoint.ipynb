{
 "cells": [
  {
   "cell_type": "code",
   "execution_count": 6,
   "metadata": {},
   "outputs": [
    {
     "data": {
      "text/plain": [
       "['merged_bbmerge.fq.json',\n",
       " 'merged_hts.fa_SE.fastq.json',\n",
       " 'out.extendedFrags.fastq.json']"
      ]
     },
     "execution_count": 6,
     "metadata": {},
     "output_type": "execute_result"
    }
   ],
   "source": [
    "import os\n",
    "import seaborn as sns\n",
    "import json\n",
    "import matplotlib.pyplot as plt\n",
    "import numpy as np\n",
    "import seaborn as sns\n",
    "import statistics\n",
    "\n",
    "files = [i for i in os.listdir('../raw_eval_data/overlapper') if '.json' in i]\n",
    "files"
   ]
  },
  {
   "cell_type": "code",
   "execution_count": 7,
   "metadata": {},
   "outputs": [
    {
     "data": {
      "text/plain": [
       "['merged_bbmerge.fq.json',\n",
       " 'merged_hts.fa_SE.fastq.json',\n",
       " 'out.extendedFrags.fastq.json']"
      ]
     },
     "execution_count": 7,
     "metadata": {},
     "output_type": "execute_result"
    }
   ],
   "source": [
    "os.listdir('../raw_eval_data/overlapper')"
   ]
  },
  {
   "cell_type": "code",
   "execution_count": 8,
   "metadata": {},
   "outputs": [
    {
     "ename": "FileNotFoundError",
     "evalue": "[Errno 2] No such file or directory: 'merged_bbmerge.fq.json'",
     "output_type": "error",
     "traceback": [
      "\u001b[0;31m---------------------------------------------------------------------------\u001b[0m",
      "\u001b[0;31mFileNotFoundError\u001b[0m                         Traceback (most recent call last)",
      "\u001b[0;32m<ipython-input-8-738233087cd6>\u001b[0m in \u001b[0;36m<module>\u001b[0;34m\u001b[0m\n\u001b[0;32m----> 1\u001b[0;31m \u001b[0;32mwith\u001b[0m \u001b[0mopen\u001b[0m\u001b[0;34m(\u001b[0m\u001b[0mfiles\u001b[0m\u001b[0;34m[\u001b[0m\u001b[0;36m0\u001b[0m\u001b[0;34m]\u001b[0m\u001b[0;34m)\u001b[0m \u001b[0;32mas\u001b[0m \u001b[0mf\u001b[0m\u001b[0;34m:\u001b[0m\u001b[0;34m\u001b[0m\u001b[0;34m\u001b[0m\u001b[0m\n\u001b[0m\u001b[1;32m      2\u001b[0m     \u001b[0md\u001b[0m \u001b[0;34m=\u001b[0m \u001b[0mjson\u001b[0m\u001b[0;34m.\u001b[0m\u001b[0mload\u001b[0m\u001b[0;34m(\u001b[0m\u001b[0mf\u001b[0m\u001b[0;34m)\u001b[0m\u001b[0;34m\u001b[0m\u001b[0;34m\u001b[0m\u001b[0m\n",
      "\u001b[0;31mFileNotFoundError\u001b[0m: [Errno 2] No such file or directory: 'merged_bbmerge.fq.json'"
     ]
    }
   ],
   "source": [
    "with open(files[0]) as f:\n",
    "    d = json.load(f)\n"
   ]
  },
  {
   "cell_type": "code",
   "execution_count": null,
   "metadata": {},
   "outputs": [],
   "source": [
    "import numpy as np\n",
    "import seaborn as sns\n",
    "import statistics\n",
    "sns.set(style=\"whitegrid\")\n",
    "\n",
    "for file in files:\n",
    "    with open(file) as f:\n",
    "        fig, ax = plt.subplots(1, 1)\n",
    "        d = json.load(f)\n",
    "        x = [int(i) for i in list(d.keys())]\n",
    "        x.sort()\n",
    "        # print(x)\n",
    "        y = []\n",
    "        for i in x:\n",
    "\n",
    "            keys = [int(z) for z in x]\n",
    "            keys.sort()\n",
    "            temp_y = []\n",
    "            for dif in d[str(i)].keys():\n",
    "                temp_y += [int(dif) for dif in range(0, d[str(i)][dif])]\n",
    "            y.append(statistics.mean(temp_y))\n",
    "\n",
    "        # Plot the residuals after fitting a linear model\n",
    "        print(file)\n",
    "        sns.scatterplot(x, y, color=\"g\")\n",
    "        ax.set(xlabel='True Length of Insert',\n",
    "               ylabel='# of reads assesed',\n",
    "               title=\"\")\n",
    "        \n",
    "        plt.show()"
   ]
  },
  {
   "cell_type": "code",
   "execution_count": null,
   "metadata": {},
   "outputs": [],
   "source": [
    "\n",
    "sns.set(style=\"whitegrid\")\n",
    "\n",
    "for file in files:\n",
    "    with open(file) as f:\n",
    "        \n",
    "\n",
    "        fig, ax = plt.subplots(1, 1)\n",
    "        d = json.load(f)\n",
    "\n",
    "        # Make an example dataset with y ~ x\n",
    "        # rs = np.random.RandomState(7)\n",
    "        x = [int(i) for i in list(d.keys())]\n",
    "        x.sort()\n",
    "#         print(x)\n",
    "        y = []\n",
    "        for i in x:\n",
    "\n",
    "            keys = [int(z) for z in x]\n",
    "            keys.sort()\n",
    "            temp_y = []\n",
    "            for dif in d[str(i)].keys():\n",
    "                temp_y += [int(dif) for f in range(0, d[str(i)][dif])]\n",
    "            y.append(statistics.mean(temp_y))\n",
    "\n",
    "        # Plot the residuals after fitting a linear model\n",
    "        print(file)\n",
    "        sns.scatterplot(x, y, color=\"g\")\n",
    "        ax.set(xlabel='True Length of Insert',\n",
    "               ylabel='Average(Overlapped Length - Gold standard Length)',\n",
    "               title=\"\")\n",
    "        \n",
    "        plt.show()"
   ]
  },
  {
   "cell_type": "code",
   "execution_count": null,
   "metadata": {},
   "outputs": [],
   "source": [
    "sns.set(style=\"whitegrid\")\n",
    "\n",
    "for file in files:\n",
    "    with open(file) as f:\n",
    "        d = json.load(f)\n",
    "\n",
    "        # Make an example dataset with y ~ x\n",
    "        # rs = np.random.RandomState(7)\n",
    "        fig, ax = plt.subplots(1, 1)\n",
    "\n",
    "        x = [int(i) for i in list(d.keys())]\n",
    "        x.sort()\n",
    "        x = [i for i in x if i < 290]\n",
    "#         print(x)\n",
    "        y = []\n",
    "        for i in x:\n",
    "\n",
    "            keys = [int(z) for z in x]\n",
    "            keys.sort()\n",
    "            temp_y = []\n",
    "            for dif in d[str(i)].keys():\n",
    "                temp_y += [int(dif) for f in range(0, d[str(i)][dif])]\n",
    "            y.append(statistics.mean(temp_y))\n",
    "\n",
    "        # Plot the residuals after fitting a linear model\n",
    "        print(file)\n",
    "        sns.scatterplot(x, y, color=\"g\")\n",
    "        ax.set(xlabel='True Length of Insert',\n",
    "               ylabel='Average(Overlapped Length - Gold standard Length)',\n",
    "               title=\"\")\n",
    "        plt.show()\n",
    "        \n",
    "# Do heatmap\n",
    "# Decrease bbmerge stringency \n",
    "# samtools\n",
    "# work on paper\n",
    "# work on "
   ]
  },
  {
   "cell_type": "code",
   "execution_count": null,
   "metadata": {},
   "outputs": [],
   "source": [
    "def get_stats(tool_dict):\n",
    "    correct = 0\n",
    "    incorrect = 0\n",
    "    for i in tool_dict.keys():\n",
    "        for y in tool_dict[i].keys():\n",
    "            if y == \"0\":\n",
    "                correct += tool_dict[i][y]\n",
    "            else: \n",
    "                incorrect += tool_dict[i][y]\n",
    "    \n",
    "    return (correct/(correct+incorrect), correct+incorrect)\n",
    "\n",
    "def get_per_len_stats(tool_dict):\n",
    "    len_list = []\n",
    "    prop_list = []\n",
    "    for i in tool_dict.keys():\n",
    "        correct = 0\n",
    "        incorrect = 0\n",
    "        for y in tool_dict[i].keys():\n",
    "            if y == \"0\":\n",
    "                correct += tool_dict[i][y]\n",
    "            else: \n",
    "                incorrect += tool_dict[i][y]\n",
    "    \n",
    "        prop_list.append((correct/(correct+incorrect)))\n",
    "        len_list.append(i)\n",
    "    return (prop_list, len_list)"
   ]
  },
  {
   "cell_type": "code",
   "execution_count": null,
   "metadata": {},
   "outputs": [],
   "source": [
    "for file in files:\n",
    "    with open(file) as f:\n",
    "        d = json.load(f)\n",
    "        print(file)\n",
    "        print(get_stats(d))"
   ]
  },
  {
   "cell_type": "code",
   "execution_count": null,
   "metadata": {},
   "outputs": [],
   "source": [
    "sns.set(style=\"whitegrid\")\n",
    "\n",
    "for file in files:\n",
    "    with open(file) as f:\n",
    "        d = json.load(f)\n",
    "\n",
    "        # Make an example dataset with y ~ x\n",
    "        # rs = np.random.RandomState(7)\n",
    "        fig, ax = plt.subplots(1, 1)\n",
    "\n",
    "        # Plot the residuals after fitting a linear model\n",
    "        print(file)\n",
    "        this = get_per_len_stats(d) \n",
    "        sns.scatterplot(this[1], this[0], color=\"g\")\n",
    "        ax.set(xlabel='True Length of Insert',\n",
    "               ylabel='Average(Overlapped Length - Gold standard Length)',\n",
    "               title=\"\")\n",
    "        plt.show()"
   ]
  },
  {
   "cell_type": "markdown",
   "metadata": {},
   "source": [
    "# Heatmap"
   ]
  },
  {
   "cell_type": "code",
   "execution_count": null,
   "metadata": {},
   "outputs": [],
   "source": [
    "sns.set(style=\"whitegrid\")\n",
    "\n",
    "for file in files:\n",
    "    with open(file) as f:\n",
    "        d = json.load(f)\n",
    "\n",
    "        # Make an example dataset with y ~ x\n",
    "        # rs = np.random.RandomState(7)\n",
    "        fig, ax = plt.subplots(1, 1)\n",
    "\n",
    "        x = [int(i) for i in list(d.keys())]\n",
    "        x.sort()\n",
    "        x = [i for i in x if i < 290]\n",
    "#         print(x)\n",
    "        y = []\n",
    "        for i in x:\n",
    "\n",
    "            keys = [int(z) for z in x]\n",
    "            keys.sort()\n",
    "            temp_y = []\n",
    "            for dif in d[str(i)].keys():\n",
    "                temp_y += [int(dif) for f in range(0, d[str(i)][dif])]\n",
    "            y.append(statistics.mean(temp_y))\n",
    "\n",
    "        # Plot the residuals after fitting a linear model\n",
    "        print(file)\n",
    "        sns.heatmap(x, y, color=\"g\")\n",
    "        ax.set(xlabel='True Length of Insert',\n",
    "               ylabel='Average(Overlapped Length - Gold standard Length)',\n",
    "               title=\"\")\n",
    "        plt.show()\n",
    "        \n",
    "# Do heatmap\n",
    "# Decrease bbmerge stringency \n",
    "# samtools\n",
    "# work on paper\n",
    "# work on "
   ]
  }
 ],
 "metadata": {
  "kernelspec": {
   "display_name": "Python 3",
   "language": "python",
   "name": "python3"
  },
  "language_info": {
   "codemirror_mode": {
    "name": "ipython",
    "version": 3
   },
   "file_extension": ".py",
   "mimetype": "text/x-python",
   "name": "python",
   "nbconvert_exporter": "python",
   "pygments_lexer": "ipython3",
   "version": "3.7.6"
  }
 },
 "nbformat": 4,
 "nbformat_minor": 4
}
